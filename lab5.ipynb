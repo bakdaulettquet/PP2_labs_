{
 "cells": [
  {
   "cell_type": "markdown",
   "metadata": {},
   "source": [
    "1."
   ]
  },
  {
   "cell_type": "code",
   "execution_count": 46,
   "metadata": {},
   "outputs": [
    {
     "name": "stdout",
     "output_type": "stream",
     "text": [
      "matches\n"
     ]
    }
   ],
   "source": [
    "import re\n",
    "\n",
    "txt = \"abbb\"\n",
    "\n",
    "e = r'^ab*$'\n",
    "\n",
    "if re.fullmatch(e, txt):\n",
    "    print(\"matches\")\n",
    "else:\n",
    "    print('not matches')\n"
   ]
  },
  {
   "cell_type": "markdown",
   "metadata": {},
   "source": [
    "2."
   ]
  },
  {
   "cell_type": "code",
   "execution_count": 45,
   "metadata": {},
   "outputs": [
    {
     "name": "stdout",
     "output_type": "stream",
     "text": [
      "matches\n"
     ]
    }
   ],
   "source": [
    "import re\n",
    "\n",
    "txt = \"abb\"\n",
    "\n",
    "e = r'^ab{2,3}$'\n",
    "\n",
    "if re.fullmatch(e, txt):\n",
    "    print(\"matches\")\n",
    "else:\n",
    "    print(\"not matches\")"
   ]
  },
  {
   "cell_type": "markdown",
   "metadata": {},
   "source": [
    "3."
   ]
  },
  {
   "cell_type": "code",
   "execution_count": 44,
   "metadata": {},
   "outputs": [
    {
     "name": "stdout",
     "output_type": "stream",
     "text": [
      "['manchester_city_for', 'city_group', 'and_for_gerena_fc']\n"
     ]
    }
   ],
   "source": [
    "import re\n",
    "\n",
    "txt = \"manchester_city_for city_group and_for_gerena_fc\"\n",
    "\n",
    "e = r'\\b[a-z]+(?:_[a-z]+)+\\b'\n",
    "\n",
    "x = re.findall(e, txt)\n",
    "\n",
    "print(x)"
   ]
  },
  {
   "cell_type": "markdown",
   "metadata": {},
   "source": [
    "4."
   ]
  },
  {
   "cell_type": "code",
   "execution_count": 43,
   "metadata": {},
   "outputs": [
    {
     "name": "stdout",
     "output_type": "stream",
     "text": [
      "['Almaty', 'London']\n"
     ]
    }
   ],
   "source": [
    "\n",
    "import re\n",
    "\n",
    "txt = \"Almaty and London\"\n",
    "\n",
    "e = r'[A-Z][a-z]+'\n",
    "\n",
    "x = re.findall(e, txt)\n",
    "\n",
    "print(x)"
   ]
  },
  {
   "cell_type": "markdown",
   "metadata": {},
   "source": [
    "5."
   ]
  },
  {
   "cell_type": "code",
   "execution_count": 41,
   "metadata": {},
   "outputs": [
    {
     "name": "stdout",
     "output_type": "stream",
     "text": [
      "['a ab']\n"
     ]
    }
   ],
   "source": [
    "import re\n",
    "\n",
    "txt = \"ba ab\"\n",
    "\n",
    "e = r'a.*b'\n",
    "\n",
    "x = re.findall(e, txt)\n",
    "\n",
    "print(x)"
   ]
  },
  {
   "cell_type": "markdown",
   "metadata": {},
   "source": [
    "6."
   ]
  },
  {
   "cell_type": "code",
   "execution_count": 40,
   "metadata": {},
   "outputs": [
    {
     "name": "stdout",
     "output_type": "stream",
     "text": [
      "P:y:tho:n\n"
     ]
    }
   ],
   "source": [
    "import re\n",
    "\n",
    "txt = \"P,y,tho,n\"\n",
    "\n",
    "e = r'[ ,.]'\n",
    "\n",
    "x = re.sub(e, ':', txt)\n",
    "\n",
    "print(x)"
   ]
  },
  {
   "cell_type": "markdown",
   "metadata": {},
   "source": [
    "7."
   ]
  },
  {
   "cell_type": "code",
   "execution_count": 39,
   "metadata": {},
   "outputs": [
    {
     "name": "stdout",
     "output_type": "stream",
     "text": [
      "BulSnakeUshinCase\n"
     ]
    }
   ],
   "source": [
    "def snaketen_camelge(s):\n",
    "\n",
    "    words = s.split('_')\n",
    "\n",
    "    camel = words[0] + ''.join(word.capitalize() for word in words[1:])\n",
    "\n",
    "    return camel\n",
    "\n",
    "s = \"Bul_snake_ushin_case\"\n",
    "camel = snaketen_camelge(s)\n",
    "\n",
    "print(camel)"
   ]
  },
  {
   "cell_type": "markdown",
   "metadata": {},
   "source": [
    "8."
   ]
  },
  {
   "cell_type": "code",
   "execution_count": 38,
   "metadata": {},
   "outputs": [
    {
     "name": "stdout",
     "output_type": "stream",
     "text": [
      "['', 'Bul', 'Snake', 'Ushin', 'Case']\n"
     ]
    }
   ],
   "source": [
    "import re\n",
    "\n",
    "def splittt(s):\n",
    "    e = re.split(r'(?=[A-Z])', s)\n",
    "    return e\n",
    "\n",
    "txt = \"BulSnakeUshinCase\"\n",
    "ss = splittt(txt)\n",
    "\n",
    "print(ss)"
   ]
  },
  {
   "cell_type": "markdown",
   "metadata": {},
   "source": [
    "9."
   ]
  },
  {
   "cell_type": "code",
   "execution_count": 37,
   "metadata": {},
   "outputs": [
    {
     "name": "stdout",
     "output_type": "stream",
     "text": [
      "Bul Snake Ushin Case\n"
     ]
    }
   ],
   "source": [
    "import re\n",
    "\n",
    "def insert(s):\n",
    "    return re.sub(r'([a-z])([A-Z])', r'\\1 \\2', s)\n",
    "\n",
    "txt = \"BulSnakeUshinCase\"\n",
    "e = insert(txt)\n",
    "\n",
    "print(e)\n"
   ]
  },
  {
   "cell_type": "markdown",
   "metadata": {},
   "source": [
    "10."
   ]
  },
  {
   "cell_type": "code",
   "execution_count": 36,
   "metadata": {},
   "outputs": [
    {
     "name": "stdout",
     "output_type": "stream",
     "text": [
      "bul_snake_ushin_case\n"
     ]
    }
   ],
   "source": [
    "import re\n",
    "\n",
    "def camelden_snakke(cs):\n",
    "    s = re.sub(r'([A-Z])', r'_\\1', cs).lower()\n",
    "    if s[0] == '_':\n",
    "        s = s[1:]\n",
    "    return s\n",
    "\n",
    "cs = \"BulSnakeUshinCase\"\n",
    "s = camelden_snakke(cs)\n",
    "\n",
    "print(s)\n"
   ]
  }
 ],
 "metadata": {
  "kernelspec": {
   "display_name": ".venv",
   "language": "python",
   "name": "python3"
  },
  "language_info": {
   "codemirror_mode": {
    "name": "ipython",
    "version": 3
   },
   "file_extension": ".py",
   "mimetype": "text/x-python",
   "name": "python",
   "nbconvert_exporter": "python",
   "pygments_lexer": "ipython3",
   "version": "3.11.9"
  }
 },
 "nbformat": 4,
 "nbformat_minor": 2
}
