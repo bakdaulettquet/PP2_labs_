{
 "cells": [
  {
   "cell_type": "markdown",
   "metadata": {},
   "source": [
    "1."
   ]
  },
  {
   "cell_type": "code",
   "execution_count": null,
   "metadata": {},
   "outputs": [],
   "source": [
    "import math\n",
    "\n",
    "def kobeitu(n):\n",
    "    return math.prod(n)\n",
    "\n",
    "n = [1, 2, 5, 8, 13]\n",
    "\n",
    "e = kobeitu(n)\n",
    "\n",
    "print(e)"
   ]
  },
  {
   "cell_type": "markdown",
   "metadata": {},
   "source": [
    "2."
   ]
  },
  {
   "cell_type": "code",
   "execution_count": null,
   "metadata": {},
   "outputs": [],
   "source": [
    "def kobeitu(s):\n",
    "    upr = sum(map(str.isupper, s))\n",
    "    lwr = sum(map(str.islower, s))\n",
    "\n",
    "    return upr, lwr\n",
    "\n",
    "e = input()\n",
    "upper, lower = kobeitu(e)\n",
    "\n",
    "print(\"uppercase\", upper)\n",
    "print(\"lowercase\", lower)\n"
   ]
  },
  {
   "cell_type": "markdown",
   "metadata": {},
   "source": [
    "3."
   ]
  },
  {
   "cell_type": "code",
   "execution_count": null,
   "metadata": {},
   "outputs": [],
   "source": [
    "def is_palindrome(text):\n",
    "    txt = ''.join(filter(str.isalnum, text)).lower()\n",
    "    return txt == txt[::-1]\n",
    "\n",
    "e = input()\n",
    "if is_palindrome(e):\n",
    "    print(\"Yes, palindrome\")\n",
    "else:\n",
    "    print(\"Nah, no palindrome\")\n"
   ]
  },
  {
   "cell_type": "markdown",
   "metadata": {},
   "source": [
    "4."
   ]
  },
  {
   "cell_type": "code",
   "execution_count": null,
   "metadata": {},
   "outputs": [],
   "source": [
    "import time\n",
    "import math\n",
    "\n",
    "def delayys(n, dly):\n",
    "    time.sleep(dly / 1000)\n",
    "    return math.sqrt(n)\n",
    "\n",
    "num = float(input())\n",
    "delay = int(input())\n",
    "\n",
    "result = delayys(num, delay)\n",
    "print(f\"Square root of {num} after {delay} milliseconds is {result:.4f}\")\n"
   ]
  },
  {
   "cell_type": "markdown",
   "metadata": {},
   "source": [
    "5."
   ]
  },
  {
   "cell_type": "code",
   "execution_count": null,
   "metadata": {},
   "outputs": [],
   "source": [
    "def truema(s):\n",
    "    return all(s)\n",
    "\n",
    "s = (True, False)\n",
    "p = (False, True)\n",
    "\n",
    "print(truema(s))\n",
    "print(truema(p))"
   ]
  }
 ],
 "metadata": {
  "kernelspec": {
   "display_name": ".venv",
   "language": "python",
   "name": "python3"
  },
  "language_info": {
   "codemirror_mode": {
    "name": "ipython",
    "version": 3
   },
   "file_extension": ".py",
   "mimetype": "text/x-python",
   "name": "python",
   "nbconvert_exporter": "python",
   "pygments_lexer": "ipython3",
   "version": "3.11.9"
  }
 },
 "nbformat": 4,
 "nbformat_minor": 2
}
